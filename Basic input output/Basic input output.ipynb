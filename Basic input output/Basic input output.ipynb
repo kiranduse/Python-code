{
 "cells": [
  {
   "cell_type": "markdown",
   "id": "8da6ca1e",
   "metadata": {},
   "source": [
    "# Self introduction"
   ]
  },
  {
   "cell_type": "code",
   "execution_count": 2,
   "id": "cee62ab0",
   "metadata": {},
   "outputs": [
    {
     "data": {
      "text/plain": [
       "'Hi kiran welcome to python'"
      ]
     },
     "execution_count": 2,
     "metadata": {},
     "output_type": "execute_result"
    }
   ],
   "source": [
    "a = \"Hi kiran welcome to python\"\n",
    "a"
   ]
  },
  {
   "cell_type": "code",
   "execution_count": 3,
   "id": "411d4c64",
   "metadata": {},
   "outputs": [
    {
     "name": "stdout",
     "output_type": "stream",
     "text": [
      "Hi kiran welcome to python\n"
     ]
    }
   ],
   "source": [
    "print(a)"
   ]
  },
  {
   "cell_type": "markdown",
   "id": "74463f26",
   "metadata": {},
   "source": [
    "# Addition"
   ]
  },
  {
   "cell_type": "code",
   "execution_count": 4,
   "id": "ea1b7816",
   "metadata": {},
   "outputs": [
    {
     "name": "stdout",
     "output_type": "stream",
     "text": [
      "enter n1:5\n",
      "enter n2:6\n",
      "sum = 11\n"
     ]
    }
   ],
   "source": [
    "n1 = int(input('enter n1:'))\n",
    "n2 = int(input('enter n2:'))\n",
    "sum = n1+n2\n",
    "print('sum =', sum)"
   ]
  },
  {
   "cell_type": "markdown",
   "id": "b0deef65",
   "metadata": {},
   "source": [
    "# Substraction"
   ]
  },
  {
   "cell_type": "code",
   "execution_count": 9,
   "id": "4862b1c5",
   "metadata": {},
   "outputs": [
    {
     "name": "stdout",
     "output_type": "stream",
     "text": [
      "enter n1:6\n",
      "enter n2:7\n",
      "sub = -1\n"
     ]
    }
   ],
   "source": [
    "n1 = int(input('enter n1:'))\n",
    "n2 = int(input('enter n2:'))\n",
    "sub = n1-n2\n",
    "print('sub =',sub)"
   ]
  },
  {
   "cell_type": "markdown",
   "id": "d379f092",
   "metadata": {},
   "source": [
    "# Multiplication"
   ]
  },
  {
   "cell_type": "code",
   "execution_count": 10,
   "id": "2f2a9a41",
   "metadata": {},
   "outputs": [
    {
     "name": "stdout",
     "output_type": "stream",
     "text": [
      "enter n1:5\n",
      "enter n2:6\n",
      "Mul = 30\n"
     ]
    }
   ],
   "source": [
    "n1 = int(input('enter n1:'))\n",
    "n2 = int(input('enter n2:'))\n",
    "Mul = n1*n2\n",
    "print('Mul =', Mul)"
   ]
  },
  {
   "cell_type": "markdown",
   "id": "6b386147",
   "metadata": {},
   "source": [
    "# Division"
   ]
  },
  {
   "cell_type": "code",
   "execution_count": 14,
   "id": "bab083d9",
   "metadata": {},
   "outputs": [
    {
     "name": "stdout",
     "output_type": "stream",
     "text": [
      "enter n1:6\n",
      "enter n2:5\n",
      "Div = 1.2\n"
     ]
    }
   ],
   "source": [
    "n1 = int(input('enter n1:'))\n",
    "n2 = int(input('enter n2:'))\n",
    "Div = n1/n2\n",
    "print('Div =',Div)\n"
   ]
  },
  {
   "cell_type": "markdown",
   "id": "2399a728",
   "metadata": {},
   "source": [
    "# Modulus"
   ]
  },
  {
   "cell_type": "code",
   "execution_count": 15,
   "id": "e914efc4",
   "metadata": {},
   "outputs": [
    {
     "name": "stdout",
     "output_type": "stream",
     "text": [
      "enter n1:6\n",
      "enter n2:5\n",
      "Rem = 1\n"
     ]
    }
   ],
   "source": [
    "n1 = int(input('enter n1:'))\n",
    "n2 = int(input('enter n2:'))\n",
    "Rem = n1%n2\n",
    "print('Rem =',Rem)"
   ]
  },
  {
   "cell_type": "markdown",
   "id": "885421d1",
   "metadata": {},
   "source": [
    "# Exponent"
   ]
  },
  {
   "cell_type": "code",
   "execution_count": 16,
   "id": "1ab97418",
   "metadata": {},
   "outputs": [
    {
     "name": "stdout",
     "output_type": "stream",
     "text": [
      "enter n1:66\n",
      "enter n2:5\n",
      "Exp = 1252332576\n"
     ]
    }
   ],
   "source": [
    "n1 = int(input('enter n1:'))\n",
    "n2 = int(input('enter n2:'))\n",
    "Exp = n1**n2\n",
    "print('Exp =',Exp)"
   ]
  },
  {
   "cell_type": "code",
   "execution_count": null,
   "id": "2c7cfa8b",
   "metadata": {},
   "outputs": [],
   "source": [
    "# "
   ]
  }
 ],
 "metadata": {
  "kernelspec": {
   "display_name": "Python 3 (ipykernel)",
   "language": "python",
   "name": "python3"
  },
  "language_info": {
   "codemirror_mode": {
    "name": "ipython",
    "version": 3
   },
   "file_extension": ".py",
   "mimetype": "text/x-python",
   "name": "python",
   "nbconvert_exporter": "python",
   "pygments_lexer": "ipython3",
   "version": "3.9.12"
  }
 },
 "nbformat": 4,
 "nbformat_minor": 5
}
