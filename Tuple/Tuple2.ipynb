{
 "cells": [
  {
   "cell_type": "markdown",
   "id": "2508edfe",
   "metadata": {},
   "source": [
    "## Q1.Write a program to find repeated items of a tuple"
   ]
  },
  {
   "cell_type": "code",
   "execution_count": 2,
   "id": "2380e759",
   "metadata": {},
   "outputs": [
    {
     "name": "stdout",
     "output_type": "stream",
     "text": [
      "(2, 4, 5, 6, 2, 3, 4, 4, 7)\n",
      "3\n"
     ]
    }
   ],
   "source": [
    "num = 2, 4, 5, 6, 2, 3, 4, 4, 7 \n",
    "print(num)\n",
    "count = num.count(4)\n",
    "print(count)"
   ]
  },
  {
   "cell_type": "markdown",
   "id": "720fdea9",
   "metadata": {},
   "source": [
    "## Q2.Write a program to check whether an element exists within a tuple"
   ]
  },
  {
   "cell_type": "code",
   "execution_count": 3,
   "id": "479ed262",
   "metadata": {},
   "outputs": [
    {
     "name": "stdout",
     "output_type": "stream",
     "text": [
      "True\n",
      "False\n"
     ]
    }
   ],
   "source": [
    "num = (\"a\", 4, \"b\", \"e\", \"c\", \"d\", \"b\", \"f\", \"e\", \"r\")\n",
    "print(\"b\" in num)\n",
    "print(5 in num)"
   ]
  },
  {
   "cell_type": "markdown",
   "id": "0f635ca4",
   "metadata": {},
   "source": [
    "## Q3.Write a program to convert to list to a tuple"
   ]
  },
  {
   "cell_type": "code",
   "execution_count": 4,
   "id": "fe363bef",
   "metadata": {},
   "outputs": [
    {
     "name": "stdout",
     "output_type": "stream",
     "text": [
      "('Motu', 'Patlu', 'Chota bheem', 'ninja hatori')\n",
      "<class 'tuple'>\n"
     ]
    }
   ],
   "source": [
    "list_names=['Motu', 'Patlu', 'Chota bheem', 'ninja hatori']\n",
    "tuple_names= tuple(list_names)\n",
    "print(tuple_names)\n",
    "print(type(tuple_names))"
   ]
  },
  {
   "cell_type": "markdown",
   "id": "e64ba556",
   "metadata": {},
   "source": [
    "## Q4.Write a program to remove an item from a tuple"
   ]
  },
  {
   "cell_type": "code",
   "execution_count": 5,
   "id": "8006c16c",
   "metadata": {},
   "outputs": [
    {
     "name": "stdout",
     "output_type": "stream",
     "text": [
      "Tuple Items =  (9, 11, 22, 45, 67, 89, 15, 25, 19)\n",
      "After Removing 4th Tuple Item =  (9, 11, 22, 67, 89, 15, 25, 19)\n",
      "After Removing 5th and 6th Tuple Item =  (9, 11, 22, 67, 89, 19)\n"
     ]
    }
   ],
   "source": [
    "\n",
    "numTuple = (9, 11, 22, 45, 67, 89, 15, 25, 19)\n",
    "print(\"Tuple Items = \", numTuple)\n",
    "\n",
    "numTuple = numTuple[:3] + numTuple[4:]\n",
    "print(\"After Removing 4th Tuple Item = \", numTuple)\n",
    "\n",
    "numTuple = numTuple[:5] + numTuple[7:]\n",
    "print(\"After Removing 5th and 6th Tuple Item = \", numTuple)"
   ]
  },
  {
   "cell_type": "markdown",
   "id": "1493b545",
   "metadata": {},
   "source": [
    "## Q5.Write a program to slice a tuple"
   ]
  },
  {
   "cell_type": "code",
   "execution_count": 6,
   "id": "739693a2",
   "metadata": {},
   "outputs": [
    {
     "data": {
      "text/plain": [
       "(5, 6, 7, 8, 9)"
      ]
     },
     "execution_count": 6,
     "metadata": {},
     "output_type": "execute_result"
    }
   ],
   "source": [
    "num=(3,4,5,6,7,8,9)\n",
    "num[2:]"
   ]
  },
  {
   "cell_type": "markdown",
   "id": "316b3c0c",
   "metadata": {},
   "source": [
    "## Q6.Write a program to find index of an item of a tuple"
   ]
  },
  {
   "cell_type": "code",
   "execution_count": 7,
   "id": "2fe09779",
   "metadata": {},
   "outputs": [
    {
     "name": "stdout",
     "output_type": "stream",
     "text": [
      "1\n"
     ]
    }
   ],
   "source": [
    "\n",
    "vowels = ('a', 'e', 'i', 'o', 'u')\n",
    "\n",
    "index = vowels.index('e')\n",
    "print(index)"
   ]
  },
  {
   "cell_type": "markdown",
   "id": "a65c7c2d",
   "metadata": {},
   "source": [
    "## Q7.Write a program to find length of a tuple."
   ]
  },
  {
   "cell_type": "code",
   "execution_count": 8,
   "id": "ee9aabbc",
   "metadata": {},
   "outputs": [
    {
     "name": "stdout",
     "output_type": "stream",
     "text": [
      "(10, 20, 30, 40, 50)\n",
      "5\n"
     ]
    }
   ],
   "source": [
    "\n",
    "intTuple = (10, 20, 30, 40, 50)\n",
    "print( intTuple)\n",
    "print(len(intTuple))\n"
   ]
  },
  {
   "cell_type": "markdown",
   "id": "ed013a74",
   "metadata": {},
   "source": [
    "## Q8.Write a program to convert tuple to a dictionary."
   ]
  },
  {
   "cell_type": "code",
   "execution_count": 9,
   "id": "e44a28ee",
   "metadata": {},
   "outputs": [
    {
     "name": "stdout",
     "output_type": "stream",
     "text": [
      "{'k': 2, 'd': 3}\n"
     ]
    }
   ],
   "source": [
    "num = ((2, \"k\"),(3, \"d\"))\n",
    "print(dict((y, x) for x, y in num))"
   ]
  },
  {
   "cell_type": "code",
   "execution_count": null,
   "id": "05416ab4",
   "metadata": {},
   "outputs": [],
   "source": []
  }
 ],
 "metadata": {
  "kernelspec": {
   "display_name": "Python 3 (ipykernel)",
   "language": "python",
   "name": "python3"
  },
  "language_info": {
   "codemirror_mode": {
    "name": "ipython",
    "version": 3
   },
   "file_extension": ".py",
   "mimetype": "text/x-python",
   "name": "python",
   "nbconvert_exporter": "python",
   "pygments_lexer": "ipython3",
   "version": "3.9.12"
  }
 },
 "nbformat": 4,
 "nbformat_minor": 5
}
