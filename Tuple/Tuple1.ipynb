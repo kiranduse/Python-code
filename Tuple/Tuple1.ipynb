{
 "cells": [
  {
   "cell_type": "markdown",
   "id": "77f4ddae",
   "metadata": {},
   "source": [
    "## Q1 Write a program to create a tuple"
   ]
  },
  {
   "cell_type": "code",
   "execution_count": 1,
   "id": "4b9cc626",
   "metadata": {},
   "outputs": [
    {
     "data": {
      "text/plain": [
       "tuple"
      ]
     },
     "execution_count": 1,
     "metadata": {},
     "output_type": "execute_result"
    }
   ],
   "source": [
    "x=(10,23)\n",
    "type(x)"
   ]
  },
  {
   "cell_type": "markdown",
   "id": "099ed20d",
   "metadata": {},
   "source": [
    "## Q2 Write a program to create tuple with different data types"
   ]
  },
  {
   "cell_type": "code",
   "execution_count": 2,
   "id": "bbee4412",
   "metadata": {},
   "outputs": [
    {
     "name": "stdout",
     "output_type": "stream",
     "text": [
      "banana\n",
      "cherry\n",
      "apple\n"
     ]
    }
   ],
   "source": [
    "fruit={\"apple\",\"banana\",\"cherry\"}\n",
    "for x in fruit:\n",
    "    print(x)"
   ]
  },
  {
   "cell_type": "markdown",
   "id": "57ba39c1",
   "metadata": {},
   "source": [
    "## Q3 Write a program with number and print one item"
   ]
  },
  {
   "cell_type": "code",
   "execution_count": 3,
   "id": "8cd2a629",
   "metadata": {},
   "outputs": [
    {
     "name": "stdout",
     "output_type": "stream",
     "text": [
      "56\n"
     ]
    }
   ],
   "source": [
    "x=(34,45,56,67)\n",
    "print(x[2])"
   ]
  },
  {
   "cell_type": "markdown",
   "id": "e5b21788",
   "metadata": {},
   "source": [
    "## Q4 Write a program to add an item in tuple"
   ]
  },
  {
   "cell_type": "code",
   "execution_count": 7,
   "id": "64ec2a44",
   "metadata": {},
   "outputs": [
    {
     "name": "stdout",
     "output_type": "stream",
     "text": [
      "(23, 45, 67, 78)\n"
     ]
    }
   ],
   "source": [
    "tuple=(23,45,67,78)\n",
    "tuple + (6,)\n",
    "print(tuple)"
   ]
  },
  {
   "cell_type": "markdown",
   "id": "0e9be2dd",
   "metadata": {},
   "source": [
    "## Q5 Write a program to convert tuple to string"
   ]
  },
  {
   "cell_type": "code",
   "execution_count": 9,
   "id": "c868e4a9",
   "metadata": {},
   "outputs": [
    {
     "name": "stdout",
     "output_type": "stream",
     "text": [
      "hello\n"
     ]
    }
   ],
   "source": [
    "tup1 = ('h','e','l','l','o')\n",
    "str = ''.join(tup1)\n",
    "print (str)"
   ]
  },
  {
   "cell_type": "markdown",
   "id": "705873c0",
   "metadata": {},
   "source": [
    "## Q6 Write a program to get 4th element and 4th element from last of a tuple"
   ]
  },
  {
   "cell_type": "code",
   "execution_count": 10,
   "id": "68827c27",
   "metadata": {},
   "outputs": [
    {
     "name": "stdout",
     "output_type": "stream",
     "text": [
      "('h', 'e', 'l', 'l', 'o', 'm', 'n')\n",
      "4th Elements From Tuple : l\n",
      "4th Elements From Last Tuple : l\n"
     ]
    }
   ],
   "source": [
    "t = ('h','e','l','l','o','m','n')\n",
    "print(t)\n",
    "i =t[3]\n",
    "print(\"4th Elements From Tuple :\",i)\n",
    "j = t[-4]\n",
    "print(\"4th Elements From Last Tuple :\",j)"
   ]
  },
  {
   "cell_type": "code",
   "execution_count": null,
   "id": "4af9dc20",
   "metadata": {},
   "outputs": [],
   "source": []
  }
 ],
 "metadata": {
  "kernelspec": {
   "display_name": "Python 3 (ipykernel)",
   "language": "python",
   "name": "python3"
  },
  "language_info": {
   "codemirror_mode": {
    "name": "ipython",
    "version": 3
   },
   "file_extension": ".py",
   "mimetype": "text/x-python",
   "name": "python",
   "nbconvert_exporter": "python",
   "pygments_lexer": "ipython3",
   "version": "3.9.12"
  }
 },
 "nbformat": 4,
 "nbformat_minor": 5
}
