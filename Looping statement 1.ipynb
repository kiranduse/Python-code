{
 "cells": [
  {
   "cell_type": "markdown",
   "id": "6729dbd6",
   "metadata": {},
   "source": [
    "### Program to print \"Hello Python\" ten times"
   ]
  },
  {
   "cell_type": "code",
   "execution_count": 1,
   "id": "c165af17",
   "metadata": {},
   "outputs": [
    {
     "name": "stdout",
     "output_type": "stream",
     "text": [
      "Hello Python\n",
      "Hello Python\n",
      "Hello Python\n",
      "Hello Python\n",
      "Hello Python\n",
      "Hello Python\n",
      "Hello Python\n",
      "Hello Python\n",
      "Hello Python\n",
      "Hello Python\n"
     ]
    }
   ],
   "source": [
    "i = 1\n",
    "while i<=10:\n",
    "    print(\"Hello Python\")\n",
    "    i = i + 1"
   ]
  },
  {
   "cell_type": "markdown",
   "id": "fc23d671",
   "metadata": {},
   "source": [
    "### Program to print number from 1 to 10"
   ]
  },
  {
   "cell_type": "code",
   "execution_count": 2,
   "id": "fe54c65f",
   "metadata": {},
   "outputs": [
    {
     "name": "stdout",
     "output_type": "stream",
     "text": [
      "1\n",
      "2\n",
      "3\n",
      "4\n",
      "5\n",
      "6\n",
      "7\n",
      "8\n",
      "9\n",
      "10\n"
     ]
    }
   ],
   "source": [
    "i = 1\n",
    "while i<=10:\n",
    "    print(i)\n",
    "    i = i + 1"
   ]
  },
  {
   "cell_type": "markdown",
   "id": "8279938f",
   "metadata": {},
   "source": [
    "### Program to print sum of first 10 numbers"
   ]
  },
  {
   "cell_type": "code",
   "execution_count": 3,
   "id": "da7293f2",
   "metadata": {},
   "outputs": [
    {
     "name": "stdout",
     "output_type": "stream",
     "text": [
      "1\n",
      "3\n",
      "6\n",
      "10\n",
      "15\n",
      "21\n",
      "28\n",
      "36\n",
      "45\n",
      "55\n"
     ]
    }
   ],
   "source": [
    "i = 1\n",
    "sum = 0\n",
    "while i<=10:\n",
    "    sum = sum + i\n",
    "    print(sum)\n",
    "    i = i + 1"
   ]
  },
  {
   "cell_type": "markdown",
   "id": "9b60bf01",
   "metadata": {},
   "source": [
    "### Program to print sum of n numbers"
   ]
  },
  {
   "cell_type": "code",
   "execution_count": 4,
   "id": "09e7817b",
   "metadata": {},
   "outputs": [
    {
     "name": "stdout",
     "output_type": "stream",
     "text": [
      "enter numbers:78\n",
      "3081\n"
     ]
    }
   ],
   "source": [
    "n = int(input('enter numbers:'))\n",
    "i = 1\n",
    "sum = 0\n",
    "while i<=n:\n",
    "    sum = sum + i\n",
    "    i = i + 1\n",
    "print(sum)"
   ]
  },
  {
   "cell_type": "markdown",
   "id": "ee3c5365",
   "metadata": {},
   "source": [
    "### Program to print n numbers"
   ]
  },
  {
   "cell_type": "code",
   "execution_count": 5,
   "id": "708bf138",
   "metadata": {},
   "outputs": [
    {
     "name": "stdout",
     "output_type": "stream",
     "text": [
      "enter numbers:20\n",
      "1\n",
      "2\n",
      "3\n",
      "4\n",
      "5\n",
      "6\n",
      "7\n",
      "8\n",
      "9\n",
      "10\n",
      "11\n",
      "12\n",
      "13\n",
      "14\n",
      "15\n",
      "16\n",
      "17\n",
      "18\n",
      "19\n",
      "20\n"
     ]
    }
   ],
   "source": [
    "n = int(input('enter numbers:'))\n",
    "i=1\n",
    "while i<=n:\n",
    "    print(i)\n",
    "    i = i+1\n",
    "   "
   ]
  },
  {
   "cell_type": "markdown",
   "id": "f6f6869d",
   "metadata": {},
   "source": [
    "### Program to print table of number"
   ]
  },
  {
   "cell_type": "code",
   "execution_count": 6,
   "id": "bed97d24",
   "metadata": {},
   "outputs": [
    {
     "name": "stdout",
     "output_type": "stream",
     "text": [
      "enter any number:5\n",
      "5 X 1 = 5\n",
      "5 X 2 = 10\n",
      "5 X 3 = 15\n",
      "5 X 4 = 20\n",
      "5 X 5 = 25\n",
      "5 X 6 = 30\n",
      "5 X 7 = 35\n",
      "5 X 8 = 40\n",
      "5 X 9 = 45\n",
      "5 X 10 = 50\n"
     ]
    }
   ],
   "source": [
    "n = int(input('enter any number:'))\n",
    "i = 1\n",
    "while i<=10:\n",
    "    print(n,'X',i,'=',n*i)\n",
    "    i+=1"
   ]
  },
  {
   "cell_type": "markdown",
   "id": "719bd35c",
   "metadata": {},
   "source": [
    "### Program to print fctorial of a number"
   ]
  },
  {
   "cell_type": "code",
   "execution_count": 7,
   "id": "2334b314",
   "metadata": {},
   "outputs": [
    {
     "name": "stdout",
     "output_type": "stream",
     "text": [
      "enter any number:5\n",
      "120\n"
     ]
    }
   ],
   "source": [
    "n = int(input('enter any number:'))\n",
    "i = 1\n",
    "fac = 1\n",
    "while i<=n:\n",
    "    fac = fac*i\n",
    "    i+=1\n",
    "print(fac)"
   ]
  },
  {
   "cell_type": "markdown",
   "id": "18d193e2",
   "metadata": {},
   "source": [
    "### Program to print even numbers from 1 to 100"
   ]
  },
  {
   "cell_type": "code",
   "execution_count": 9,
   "id": "c88a6910",
   "metadata": {},
   "outputs": [
    {
     "name": "stdout",
     "output_type": "stream",
     "text": [
      "2\n",
      "4\n",
      "6\n",
      "8\n",
      "10\n",
      "12\n",
      "14\n",
      "16\n",
      "18\n",
      "20\n",
      "22\n",
      "24\n",
      "26\n",
      "28\n",
      "30\n",
      "32\n",
      "34\n",
      "36\n",
      "38\n",
      "40\n",
      "42\n",
      "44\n",
      "46\n",
      "48\n",
      "50\n",
      "52\n",
      "54\n",
      "56\n",
      "58\n",
      "60\n",
      "62\n",
      "64\n",
      "66\n",
      "68\n",
      "70\n",
      "72\n",
      "74\n",
      "76\n",
      "78\n",
      "80\n",
      "82\n",
      "84\n",
      "86\n",
      "88\n",
      "90\n",
      "92\n",
      "94\n",
      "96\n",
      "98\n",
      "100\n"
     ]
    }
   ],
   "source": [
    "i = 1\n",
    "while i<=100:\n",
    "    if i%2==0:\n",
    "        print(i)\n",
    "    i = i+1"
   ]
  },
  {
   "cell_type": "markdown",
   "id": "8b84798f",
   "metadata": {},
   "source": [
    "### Program to print odd numbers from 1 to 100"
   ]
  },
  {
   "cell_type": "code",
   "execution_count": 10,
   "id": "eb4aea28",
   "metadata": {},
   "outputs": [
    {
     "name": "stdout",
     "output_type": "stream",
     "text": [
      "1\n",
      "3\n",
      "5\n",
      "7\n",
      "9\n",
      "11\n",
      "13\n",
      "15\n",
      "17\n",
      "19\n",
      "21\n",
      "23\n",
      "25\n",
      "27\n",
      "29\n",
      "31\n",
      "33\n",
      "35\n",
      "37\n",
      "39\n",
      "41\n",
      "43\n",
      "45\n",
      "47\n",
      "49\n",
      "51\n",
      "53\n",
      "55\n",
      "57\n",
      "59\n",
      "61\n",
      "63\n",
      "65\n",
      "67\n",
      "69\n",
      "71\n",
      "73\n",
      "75\n",
      "77\n",
      "79\n",
      "81\n",
      "83\n",
      "85\n",
      "87\n",
      "89\n",
      "91\n",
      "93\n",
      "95\n",
      "97\n",
      "99\n"
     ]
    }
   ],
   "source": [
    "i = 1\n",
    "while i<=100:\n",
    "    if i%2!=0:\n",
    "        print(i)\n",
    "    i = i+1"
   ]
  },
  {
   "cell_type": "markdown",
   "id": "a837c151",
   "metadata": {},
   "source": [
    "### Program to print 0 to 10 numbers using for loop"
   ]
  },
  {
   "cell_type": "code",
   "execution_count": 11,
   "id": "2071b893",
   "metadata": {},
   "outputs": [
    {
     "name": "stdout",
     "output_type": "stream",
     "text": [
      "0\n",
      "1\n",
      "2\n",
      "3\n",
      "4\n",
      "5\n",
      "6\n",
      "7\n",
      "8\n",
      "9\n",
      "10\n"
     ]
    }
   ],
   "source": [
    "for i in range(11):\n",
    "    print(i)"
   ]
  },
  {
   "cell_type": "markdown",
   "id": "1bfa57e6",
   "metadata": {},
   "source": [
    "### Program to print hello 10 times using for loop"
   ]
  },
  {
   "cell_type": "code",
   "execution_count": 12,
   "id": "e8fcfe06",
   "metadata": {},
   "outputs": [
    {
     "name": "stdout",
     "output_type": "stream",
     "text": [
      "hello\n",
      "hello\n",
      "hello\n",
      "hello\n",
      "hello\n",
      "hello\n",
      "hello\n",
      "hello\n",
      "hello\n",
      "hello\n"
     ]
    }
   ],
   "source": [
    "for j in range(10):\n",
    "    print(\"hello\")"
   ]
  },
  {
   "cell_type": "markdown",
   "id": "c81dcdc4",
   "metadata": {},
   "source": [
    "### Program to print sum of 1 to 10 numbers using for loop"
   ]
  },
  {
   "cell_type": "code",
   "execution_count": 13,
   "id": "fbc381bb",
   "metadata": {},
   "outputs": [
    {
     "name": "stdout",
     "output_type": "stream",
     "text": [
      "0\n",
      "1\n",
      "3\n",
      "6\n",
      "10\n",
      "15\n",
      "21\n",
      "28\n",
      "36\n",
      "45\n",
      "55\n"
     ]
    }
   ],
   "source": [
    "sum = 0\n",
    "for i in range(11):\n",
    "    sum = sum + i\n",
    "    print(sum)"
   ]
  },
  {
   "cell_type": "code",
   "execution_count": 14,
   "id": "8661e177",
   "metadata": {},
   "outputs": [
    {
     "name": "stdout",
     "output_type": "stream",
     "text": [
      "0\n",
      "1\n",
      "2\n",
      "3\n",
      "4\n",
      "5\n",
      "6\n",
      "7\n",
      "8\n",
      "9\n",
      "Thank you\n"
     ]
    }
   ],
   "source": [
    "for i in range(10):\n",
    "    print(i)\n",
    "else:\n",
    "    print(\"Thank you\")"
   ]
  },
  {
   "cell_type": "code",
   "execution_count": null,
   "id": "0cf06c0b",
   "metadata": {},
   "outputs": [],
   "source": []
  }
 ],
 "metadata": {
  "kernelspec": {
   "display_name": "Python 3 (ipykernel)",
   "language": "python",
   "name": "python3"
  },
  "language_info": {
   "codemirror_mode": {
    "name": "ipython",
    "version": 3
   },
   "file_extension": ".py",
   "mimetype": "text/x-python",
   "name": "python",
   "nbconvert_exporter": "python",
   "pygments_lexer": "ipython3",
   "version": "3.9.12"
  }
 },
 "nbformat": 4,
 "nbformat_minor": 5
}
