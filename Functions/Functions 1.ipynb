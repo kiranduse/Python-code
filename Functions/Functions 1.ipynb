{
 "cells": [
  {
   "cell_type": "markdown",
   "id": "59e05c6d",
   "metadata": {},
   "source": [
    "## Q1 Write a function to find max of three numbers"
   ]
  },
  {
   "cell_type": "code",
   "execution_count": 1,
   "id": "5eae9dfa",
   "metadata": {},
   "outputs": [
    {
     "name": "stdout",
     "output_type": "stream",
     "text": [
      "6\n"
     ]
    }
   ],
   "source": [
    "def maximum(a, b, c):\n",
    "  \n",
    "    if (a >= b) and (a >= c):\n",
    "        largest = a\n",
    "  \n",
    "    elif (b >= a) and (b >= c):\n",
    "        largest = b\n",
    "    else:\n",
    "        largest = c\n",
    "          \n",
    "    return largest\n",
    "\n",
    "a=4\n",
    "b=6\n",
    "c=3\n",
    "print(maximum(a,b,c))"
   ]
  },
  {
   "cell_type": "markdown",
   "id": "0077683f",
   "metadata": {},
   "source": [
    "## Q2 Write a function to sum all the numbers in list1"
   ]
  },
  {
   "cell_type": "code",
   "execution_count": 2,
   "id": "7a8abbe4",
   "metadata": {},
   "outputs": [
    {
     "name": "stdout",
     "output_type": "stream",
     "text": [
      "Sum of all elements in given list:  75\n"
     ]
    }
   ],
   "source": [
    " \n",
    "# creating a list\n",
    "list1 = [10, 5, 15, 20, 25]\n",
    " \n",
    "# using sum() function\n",
    "total = sum(list1)\n",
    " \n",
    "# printing total value\n",
    "print(\"Sum of all elements in given list: \", total)"
   ]
  },
  {
   "cell_type": "markdown",
   "id": "4734dce6",
   "metadata": {},
   "source": [
    "## Q3 Write a function to multiply all numbers in list"
   ]
  },
  {
   "cell_type": "code",
   "execution_count": 3,
   "id": "220f6a00",
   "metadata": {},
   "outputs": [
    {
     "name": "stdout",
     "output_type": "stream",
     "text": [
      "24\n"
     ]
    }
   ],
   "source": [
    " \n",
    "def multiplyList(myList):\n",
    " \n",
    "    result = 1\n",
    "    for x in myList:\n",
    "        result = result * x\n",
    "    return result\n",
    " \n",
    "list1 = [3, 2, 4]\n",
    "print(multiplyList(list1))"
   ]
  },
  {
   "cell_type": "markdown",
   "id": "1c77ccb0",
   "metadata": {},
   "source": [
    "## Q4 Write a function to reverse a string"
   ]
  },
  {
   "cell_type": "code",
   "execution_count": 4,
   "id": "bb8ddd5e",
   "metadata": {},
   "outputs": [
    {
     "name": "stdout",
     "output_type": "stream",
     "text": [
      "egaugnal evitisnes esac si nohtyP\n"
     ]
    }
   ],
   "source": [
    "def my_function(x):\n",
    "  return x[::-1]\n",
    "\n",
    "mytxt = my_function(\"Python is case sensitive language\")\n",
    "\n",
    "print(mytxt)"
   ]
  },
  {
   "cell_type": "markdown",
   "id": "c485cbd2",
   "metadata": {},
   "source": [
    "## Q5 Write a function to calculate factorial of a number"
   ]
  },
  {
   "cell_type": "code",
   "execution_count": 5,
   "id": "225f20fb",
   "metadata": {},
   "outputs": [
    {
     "name": "stdout",
     "output_type": "stream",
     "text": [
      "Enter the number: 5\n",
      "Factorial of = 5 is 1\n",
      "Factorial of = 5 is 2\n",
      "Factorial of = 5 is 6\n",
      "Factorial of = 5 is 24\n",
      "Factorial of = 5 is 120\n"
     ]
    }
   ],
   "source": [
    "\n",
    "def fac():\n",
    "  a=int(input(\"Enter the number: \"))\n",
    "  fac = 1\n",
    "  i = 1\n",
    "  while i<=a:\n",
    "    fac=fac*i\n",
    "    i=i+1\n",
    "    print(\"Factorial of =\",a,\"is\",fac)\n",
    "fac()"
   ]
  },
  {
   "cell_type": "markdown",
   "id": "f6b2c10f",
   "metadata": {},
   "source": [
    "## Q6 Write a function that accepts the string and calculate number of upper case letter and lower case letters"
   ]
  },
  {
   "cell_type": "code",
   "execution_count": 6,
   "id": "20ab57a9",
   "metadata": {},
   "outputs": [
    {
     "name": "stdout",
     "output_type": "stream",
     "text": [
      "Original String :  Everything  is Possible if we Try \n",
      "No. of Upper case characters :  3\n",
      "No. of Lower case Characters :  24\n"
     ]
    }
   ],
   "source": [
    "def string_test(s):\n",
    "    d={\"UPPER_CASE\":0, \"LOWER_CASE\":0}\n",
    "    for c in s:\n",
    "        if c.isupper():\n",
    "           d[\"UPPER_CASE\"]+=1\n",
    "        elif c.islower():\n",
    "           d[\"LOWER_CASE\"]+=1\n",
    "        else:\n",
    "           pass\n",
    "    print (\"Original String : \", s)\n",
    "    print (\"No. of Upper case characters : \", d[\"UPPER_CASE\"])\n",
    "    print (\"No. of Lower case Characters : \", d[\"LOWER_CASE\"])\n",
    "\n",
    "string_test('Everything  is Possible if we Try ')"
   ]
  },
  {
   "cell_type": "markdown",
   "id": "0f15cbc8",
   "metadata": {},
   "source": [
    "## Q7 Write a function that takes a list and returns a new list with unique elements of the first list"
   ]
  },
  {
   "cell_type": "code",
   "execution_count": 7,
   "id": "a9b8db1b",
   "metadata": {},
   "outputs": [
    {
     "name": "stdout",
     "output_type": "stream",
     "text": [
      "[1, 2, 3, 4, 5]\n"
     ]
    }
   ],
   "source": [
    "def unique_list(l):\n",
    "  x = []\n",
    "  for a in l:\n",
    "    if a not in x:\n",
    "      x.append(a)\n",
    "  return x\n",
    "\n",
    "print(unique_list([1,2,2,2,2,2,3,4,5]))"
   ]
  },
  {
   "cell_type": "code",
   "execution_count": null,
   "id": "e48cf2b6",
   "metadata": {},
   "outputs": [],
   "source": []
  }
 ],
 "metadata": {
  "kernelspec": {
   "display_name": "Python 3 (ipykernel)",
   "language": "python",
   "name": "python3"
  },
  "language_info": {
   "codemirror_mode": {
    "name": "ipython",
    "version": 3
   },
   "file_extension": ".py",
   "mimetype": "text/x-python",
   "name": "python",
   "nbconvert_exporter": "python",
   "pygments_lexer": "ipython3",
   "version": "3.9.12"
  }
 },
 "nbformat": 4,
 "nbformat_minor": 5
}
