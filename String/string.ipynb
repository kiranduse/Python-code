{
 "cells": [
  {
   "cell_type": "markdown",
   "id": "ec00fc73",
   "metadata": {},
   "source": [
    "## Q1 Write a program to calculate length of string"
   ]
  },
  {
   "cell_type": "code",
   "execution_count": 1,
   "id": "a870fc44",
   "metadata": {},
   "outputs": [
    {
     "name": "stdout",
     "output_type": "stream",
     "text": [
      "5\n"
     ]
    }
   ],
   "source": [
    "str=\"kiran\"\n",
    "print(len(str))"
   ]
  },
  {
   "cell_type": "markdown",
   "id": "fae334ce",
   "metadata": {},
   "source": [
    "## Q2 Write a program to count no of character in a string"
   ]
  },
  {
   "cell_type": "code",
   "execution_count": 3,
   "id": "22ea7538",
   "metadata": {},
   "outputs": [
    {
     "name": "stdout",
     "output_type": "stream",
     "text": [
      "2\n"
     ]
    }
   ],
   "source": [
    "str='testing for loops'\n",
    "count=0\n",
    "for x in str:\n",
    "    if(x == 't'):\n",
    "        count += 1\n",
    "print(count)  "
   ]
  },
  {
   "cell_type": "markdown",
   "id": "23316e10",
   "metadata": {},
   "source": [
    "## Q3 Write a program that takes input from user and displays that input back in upper and lower case"
   ]
  },
  {
   "cell_type": "code",
   "execution_count": 4,
   "id": "fd305480",
   "metadata": {},
   "outputs": [
    {
     "name": "stdout",
     "output_type": "stream",
     "text": [
      "Python is case sensitive language PYTHON IS CASE SENSITIVE LANGUAGE\n",
      "Python is case sensitive language python is case sensitive language\n"
     ]
    }
   ],
   "source": [
    "user_input=('Python is case sensitive language')\n",
    "print('Python is case sensitive language',user_input.upper())\n",
    "print('Python is case sensitive language',user_input.lower())"
   ]
  },
  {
   "cell_type": "markdown",
   "id": "9e7968e5",
   "metadata": {},
   "source": [
    "## Q4 Write a program given string is palindrome or not"
   ]
  },
  {
   "cell_type": "code",
   "execution_count": 5,
   "id": "6c78bd1b",
   "metadata": {},
   "outputs": [
    {
     "name": "stdout",
     "output_type": "stream",
     "text": [
      "Yes\n"
     ]
    }
   ],
   "source": [
    "x = \"radar\"\n",
    " \n",
    "k = \"\"\n",
    "for i in x:\n",
    "    k = i + k\n",
    " \n",
    "if (x == k):\n",
    "    print(\"Yes\")\n",
    "else:\n",
    "    print(\"No\")"
   ]
  },
  {
   "cell_type": "markdown",
   "id": "005ad27f",
   "metadata": {},
   "source": [
    "## Q5 Write a program that accepts comma separated sequence of words as input and print unique words in sorted form"
   ]
  },
  {
   "cell_type": "code",
   "execution_count": 6,
   "id": "ce83e7ca",
   "metadata": {},
   "outputs": [
    {
     "name": "stdout",
     "output_type": "stream",
     "text": [
      "Input comma separated sequence of wordsBMW,Creta,Innova,Bolero\n",
      "['BMW', 'Bolero', 'Creta', 'Innova']\n"
     ]
    }
   ],
   "source": [
    "items = input(\"Input comma separated sequence of words\") \n",
    "words = sorted(set(items.split(',')))\n",
    "print (words)"
   ]
  },
  {
   "cell_type": "code",
   "execution_count": null,
   "id": "24a3b65d",
   "metadata": {},
   "outputs": [],
   "source": []
  }
 ],
 "metadata": {
  "kernelspec": {
   "display_name": "Python 3 (ipykernel)",
   "language": "python",
   "name": "python3"
  },
  "language_info": {
   "codemirror_mode": {
    "name": "ipython",
    "version": 3
   },
   "file_extension": ".py",
   "mimetype": "text/x-python",
   "name": "python",
   "nbconvert_exporter": "python",
   "pygments_lexer": "ipython3",
   "version": "3.9.12"
  }
 },
 "nbformat": 4,
 "nbformat_minor": 5
}
