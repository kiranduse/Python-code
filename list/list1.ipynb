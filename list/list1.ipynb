{
 "cells": [
  {
   "cell_type": "markdown",
   "id": "3b0bfcbe",
   "metadata": {},
   "source": [
    "# Q.1 Write program to sum all items in list"
   ]
  },
  {
   "cell_type": "code",
   "execution_count": 1,
   "id": "576b5671",
   "metadata": {},
   "outputs": [
    {
     "name": "stdout",
     "output_type": "stream",
     "text": [
      "Sum of all elements in given list:  380\n"
     ]
    }
   ],
   "source": [
    "total=0\n",
    "list=[23,45,56,78,88,90]\n",
    "for ele in range(0,len(list)):\n",
    "    total=total +list[ele]\n",
    "print(\"Sum of all elements in given list: \", total)   "
   ]
  },
  {
   "cell_type": "markdown",
   "id": "b22859dc",
   "metadata": {},
   "source": [
    "# Q.2 Write program to multiply all items in list"
   ]
  },
  {
   "cell_type": "code",
   "execution_count": 2,
   "id": "a6707620",
   "metadata": {},
   "outputs": [
    {
     "name": "stdout",
     "output_type": "stream",
     "text": [
      "[1, 2, 3, 4, 5, 1, 2, 3, 4, 5, 1, 2, 3, 4, 5]\n"
     ]
    }
   ],
   "source": [
    "l=[1,2,3,4,5]\n",
    "print(l*3)"
   ]
  },
  {
   "cell_type": "markdown",
   "id": "051aa2d5",
   "metadata": {},
   "source": [
    "## Q3.Write program to print largest element in list"
   ]
  },
  {
   "cell_type": "code",
   "execution_count": 3,
   "id": "6daadb7c",
   "metadata": {},
   "outputs": [
    {
     "name": "stdout",
     "output_type": "stream",
     "text": [
      "Largest element is: 99\n"
     ]
    }
   ],
   "source": [
    "list1 = [10, 20, 4, 45, 99]\n",
    " \n",
    "print(\"Largest element is:\", max(list1))"
   ]
  },
  {
   "cell_type": "markdown",
   "id": "b5703027",
   "metadata": {},
   "source": [
    "## Q4.Write a program to print smallest number element in list"
   ]
  },
  {
   "cell_type": "code",
   "execution_count": 4,
   "id": "ebc72f5a",
   "metadata": {},
   "outputs": [
    {
     "name": "stdout",
     "output_type": "stream",
     "text": [
      "Smallest element is: 4\n"
     ]
    }
   ],
   "source": [
    "list1 = [10, 20, 4, 45, 99]\n",
    " \n",
    "print(\"Smallest element is:\", min(list1))"
   ]
  },
  {
   "cell_type": "markdown",
   "id": "a8d0f813",
   "metadata": {},
   "source": [
    "## Q5.Write a program to count no of strings when the length is two or more character are same from given list of strings."
   ]
  },
  {
   "cell_type": "code",
   "execution_count": 5,
   "id": "3a2cc6df",
   "metadata": {},
   "outputs": [
    {
     "name": "stdout",
     "output_type": "stream",
     "text": [
      "2\n"
     ]
    }
   ],
   "source": [
    "word=[\"banana\",\"3643\",\"apple\",\"3756\"]\n",
    "ch = 0\n",
    "for w in word:\n",
    "\tif len(w) > 1 and w[0] == w[-1]:\n",
    "\t  ch += 1\n",
    "print(ch)"
   ]
  },
  {
   "cell_type": "markdown",
   "id": "d25b9965",
   "metadata": {},
   "source": [
    "## Q6.Write a program to remove duplicate items"
   ]
  },
  {
   "cell_type": "code",
   "execution_count": 6,
   "id": "3f7c24d1",
   "metadata": {},
   "outputs": [
    {
     "name": "stdout",
     "output_type": "stream",
     "text": [
      "{40, 10, 80, 50, 20, 60, 30}\n"
     ]
    }
   ],
   "source": [
    "a = [10,20,30,20,10,50,60,40,80,50,40]\n",
    "\n",
    "dup_items = set()\n",
    "uniq_items = []\n",
    "for x in a:\n",
    "    if x not in dup_items:\n",
    "        uniq_items.append(x)\n",
    "        dup_items.add(x)\n",
    "\n",
    "print(dup_items)"
   ]
  },
  {
   "cell_type": "markdown",
   "id": "729900cc",
   "metadata": {},
   "source": [
    "## Q7.Write a program to check list is empty or not"
   ]
  },
  {
   "cell_type": "code",
   "execution_count": 7,
   "id": "8f1992d5",
   "metadata": {},
   "outputs": [
    {
     "name": "stdout",
     "output_type": "stream",
     "text": [
      "The list is empty\n"
     ]
    }
   ],
   "source": [
    "My_list=[]\n",
    "if not My_list:\n",
    "    print(\"The list is empty\")\n"
   ]
  },
  {
   "cell_type": "code",
   "execution_count": null,
   "id": "2c323339",
   "metadata": {},
   "outputs": [],
   "source": []
  }
 ],
 "metadata": {
  "kernelspec": {
   "display_name": "Python 3 (ipykernel)",
   "language": "python",
   "name": "python3"
  },
  "language_info": {
   "codemirror_mode": {
    "name": "ipython",
    "version": 3
   },
   "file_extension": ".py",
   "mimetype": "text/x-python",
   "name": "python",
   "nbconvert_exporter": "python",
   "pygments_lexer": "ipython3",
   "version": "3.9.12"
  }
 },
 "nbformat": 4,
 "nbformat_minor": 5
}
