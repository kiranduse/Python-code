{
 "cells": [
  {
   "cell_type": "markdown",
   "id": "f0047c3a",
   "metadata": {},
   "source": [
    "### Program to check whether person is eligible for vote or not\n"
   ]
  },
  {
   "cell_type": "code",
   "execution_count": 1,
   "id": "2eff111b",
   "metadata": {},
   "outputs": [
    {
     "name": "stdout",
     "output_type": "stream",
     "text": [
      "Enter the age19\n",
      "voter is Eligible\n"
     ]
    }
   ],
   "source": [
    "Eligible = int(input(\"Enter the age\"))\n",
    "if Eligible>18:\n",
    "    print(\"voter is Eligible\")\n",
    "else:\n",
    "    print(\"vote is Declined\")"
   ]
  },
  {
   "cell_type": "markdown",
   "id": "b9a6c601",
   "metadata": {},
   "source": [
    "# Program to check whether a given number is even or odd"
   ]
  },
  {
   "cell_type": "code",
   "execution_count": 2,
   "id": "1e47cb5c",
   "metadata": {},
   "outputs": [
    {
     "name": "stdout",
     "output_type": "stream",
     "text": [
      "Enter the Number5\n",
      "Num is Even\n"
     ]
    }
   ],
   "source": [
    "Even = int(input(\"Enter the Number\"))\n",
    "if Even/2:\n",
    "    print(\"Num is Even\")\n",
    "else:\n",
    "    print(\"Num is Odd\")"
   ]
  },
  {
   "cell_type": "markdown",
   "id": "fd63f4f0",
   "metadata": {},
   "source": [
    "# program to check leap year or not"
   ]
  },
  {
   "cell_type": "code",
   "execution_count": 3,
   "id": "64e17df6",
   "metadata": {},
   "outputs": [
    {
     "name": "stdout",
     "output_type": "stream",
     "text": [
      "Enter the Number of Days 366\n",
      "Year is Leap\n"
     ]
    }
   ],
   "source": [
    "x=int(input(\"Enter the Number of Days \"))\n",
    "if x==366:\n",
    "    print(\"Year is Leap\")\n",
    "else:\n",
    "    print(\"Not a Leap Year\")"
   ]
  },
  {
   "cell_type": "markdown",
   "id": "4ef0e32f",
   "metadata": {},
   "source": [
    "# Program to check number is positive ,zero ,negative"
   ]
  },
  {
   "cell_type": "code",
   "execution_count": 4,
   "id": "6ce34249",
   "metadata": {},
   "outputs": [
    {
     "name": "stdout",
     "output_type": "stream",
     "text": [
      "Enter the Value - 6\n",
      "Postive\n"
     ]
    }
   ],
   "source": [
    "x=float(input(\"Enter the Value - \"))\n",
    "if x>0:\n",
    "    print(\"Postive\")\n",
    "elif x==0:\n",
    "    print(\"zero\")\n",
    "else:\n",
    "    print(\"negative\")"
   ]
  },
  {
   "cell_type": "markdown",
   "id": "a2f18721",
   "metadata": {},
   "source": [
    "### Program to check number is smallest or not"
   ]
  },
  {
   "cell_type": "code",
   "execution_count": 5,
   "id": "43934775",
   "metadata": {},
   "outputs": [
    {
     "name": "stdout",
     "output_type": "stream",
     "text": [
      "Enter num1 6\n",
      "Enter num2 7\n",
      "a is smaller, 6\n"
     ]
    }
   ],
   "source": [
    "a = int(input(\"Enter num1 \"))\n",
    "b = int(input(\"Enter num2 \"))\n",
    "if a<b:\n",
    "    print(\"a is smaller,\", a)\n",
    "else:\n",
    "    print(\"b is smaller,\", b)"
   ]
  },
  {
   "cell_type": "markdown",
   "id": "228fed76",
   "metadata": {},
   "source": [
    "# program to check number is greater "
   ]
  },
  {
   "cell_type": "code",
   "execution_count": 7,
   "id": "f2266de7",
   "metadata": {},
   "outputs": [
    {
     "name": "stdout",
     "output_type": "stream",
     "text": [
      "Enter num1 8\n",
      "Enter num2 6\n",
      "a is greater, 8\n"
     ]
    }
   ],
   "source": [
    "a = int(input(\"Enter num1 \"))\n",
    "b = int(input(\"Enter num2 \"))\n",
    "if a>b:\n",
    "    print(\"a is greater,\", a)\n",
    "else:\n",
    "    print(\"b is greater,\", b)"
   ]
  },
  {
   "cell_type": "markdown",
   "id": "5f5e8987",
   "metadata": {},
   "source": [
    "### Program to check after selling profit or loss"
   ]
  },
  {
   "cell_type": "code",
   "execution_count": 8,
   "id": "eaf56aaa",
   "metadata": {},
   "outputs": [
    {
     "name": "stdout",
     "output_type": "stream",
     "text": [
      "Enter the Cost Price 50\n",
      "Enter the Selling Price60\n",
      "Profit\n"
     ]
    }
   ],
   "source": [
    "CP = int(input(\"Enter the Cost Price \"))\n",
    "SP = int(input(\"Enter the Selling Price\"))\n",
    "if CP<SP:\n",
    "    print(\"Profit\")\n",
    "elif CP>SP:\n",
    "    print(\"Loss\")\n",
    "else:\n",
    "    print(\"No Loss No Profit\")"
   ]
  },
  {
   "cell_type": "markdown",
   "id": "e739a7ae",
   "metadata": {},
   "source": [
    "### Program to check triangle is equilateral isosceles or scalene"
   ]
  },
  {
   "cell_type": "code",
   "execution_count": 9,
   "id": "1854734b",
   "metadata": {},
   "outputs": [
    {
     "name": "stdout",
     "output_type": "stream",
     "text": [
      "Enter First Side6\n",
      "Enter Second Side6\n",
      "Enter third Side6\n",
      "Triangle is Equilateral\n"
     ]
    }
   ],
   "source": [
    "a=int(input(\"Enter First Side\"))\n",
    "b=int(input(\"Enter Second Side\"))\n",
    "c=int(input(\"Enter third Side\"))\n",
    "if ((a==b) and (b==c) and (a==c)):\n",
    "    print(\"Triangle is Equilateral\")\n",
    "elif (a!=b and b!=c and c!=a):\n",
    "    print(\"Triangle is Scalene \")\n",
    "else:\n",
    "    print(\"Triangle is Isoceles\")"
   ]
  },
  {
   "cell_type": "code",
   "execution_count": 10,
   "id": "073f76f0",
   "metadata": {},
   "outputs": [
    {
     "name": "stdout",
     "output_type": "stream",
     "text": [
      "Enter First Side10\n",
      "Enter Second Side12\n",
      "Enter third Side16\n",
      "Triangle is Scalene \n"
     ]
    }
   ],
   "source": [
    "a=int(input(\"Enter First Side\"))\n",
    "b=int(input(\"Enter Second Side\"))\n",
    "c=int(input(\"Enter third Side\"))\n",
    "if ((a==b) and (b==c) and (a==c)):\n",
    "    print(\"Triangle is Equilateral\")\n",
    "elif (a!=b and b!=c and c!=a):\n",
    "    print(\"Triangle is Scalene \")\n",
    "else:\n",
    "    print(\"Triangle is Isoceles\")"
   ]
  },
  {
   "cell_type": "code",
   "execution_count": 11,
   "id": "1ab14348",
   "metadata": {},
   "outputs": [
    {
     "name": "stdout",
     "output_type": "stream",
     "text": [
      "Enter First Side5\n",
      "Enter Second Side5\n",
      "Enter third Side6\n",
      "Triangle is Isoceles\n"
     ]
    }
   ],
   "source": [
    "a=int(input(\"Enter First Side\"))\n",
    "b=int(input(\"Enter Second Side\"))\n",
    "c=int(input(\"Enter third Side\"))\n",
    "if ((a==b) and (b==c) and (a==c)):\n",
    "    print(\"Triangle is Equilateral\")\n",
    "elif (a!=b and b!=c and c!=a):\n",
    "    print(\"Triangle is Scalene \")\n",
    "else:\n",
    "    print(\"Triangle is Isoceles\")"
   ]
  },
  {
   "cell_type": "markdown",
   "id": "d269d183",
   "metadata": {},
   "source": [
    "### Program to check roots of quadratic equation"
   ]
  },
  {
   "cell_type": "code",
   "execution_count": 12,
   "id": "f3b6f411",
   "metadata": {},
   "outputs": [
    {
     "name": "stdout",
     "output_type": "stream",
     "text": [
      "Enter a 45\n",
      "Enter b 46\n",
      "Enter c 56\n",
      "Quadratic Equation is  -7964\n"
     ]
    }
   ],
   "source": [
    "a=int(input(\"Enter a \"))\n",
    "b=int(input(\"Enter b \"))\n",
    "c=int(input(\"Enter c \"))\n",
    "d=b*b-4*a*c\n",
    "print(\"Quadratic Equation is \", d)"
   ]
  },
  {
   "cell_type": "markdown",
   "id": "e7d11c87",
   "metadata": {},
   "source": [
    "### Program to check alphabet is vovel or consonant"
   ]
  },
  {
   "cell_type": "code",
   "execution_count": 13,
   "id": "c1a29fbb",
   "metadata": {},
   "outputs": [
    {
     "name": "stdout",
     "output_type": "stream",
     "text": [
      "Enter the alphabet: g\n",
      " alphabet is a consonant\n"
     ]
    }
   ],
   "source": [
    "x = input(\"Enter the alphabet: \")\n",
    "if(x=='A' or x=='a'or x=='E'or x=='e'or x=='I'or x=='i'or x=='O'or x=='o'or x=='U'or x=='u'):\n",
    "   print(\"alpbhabet is a vowel\")\n",
    "else:\n",
    "    print(\" alphabet is a consonant\")"
   ]
  },
  {
   "cell_type": "markdown",
   "id": "75574151",
   "metadata": {},
   "source": [
    "### Program to enter 3 numbers print greatest number"
   ]
  },
  {
   "cell_type": "code",
   "execution_count": 18,
   "id": "bbd7931d",
   "metadata": {},
   "outputs": [
    {
     "name": "stdout",
     "output_type": "stream",
     "text": [
      "Enter num1 4\n",
      "Enter num2 5\n",
      "Enter num3 6\n",
      "b is greater, 5\n",
      "c is greater, 6\n",
      "c is greater, 6\n"
     ]
    }
   ],
   "source": [
    "\n",
    "a = int(input(\"Enter num1 \"))\n",
    "b = int(input(\"Enter num2 \"))\n",
    "c = int(input(\"Enter num3 \"))\n",
    "if a>b:\n",
    "    print(\"a is greater,\", a)\n",
    "else:\n",
    "    print(\"b is greater,\", b)\n",
    "if b>c:\n",
    "     print(\"b is greater,\", b)\n",
    "else:\n",
    "     print(\"c is greater,\", c)\n",
    "if a>c:\n",
    "     print(\"a is greater,\", a)\n",
    "else:\n",
    "     print(\"c is greater,\", c)\n",
    "    "
   ]
  },
  {
   "cell_type": "markdown",
   "id": "8b7578b1",
   "metadata": {},
   "source": [
    "### program to enter 3 numbers print smallest numbers"
   ]
  },
  {
   "cell_type": "code",
   "execution_count": 19,
   "id": "aab88748",
   "metadata": {},
   "outputs": [
    {
     "name": "stdout",
     "output_type": "stream",
     "text": [
      "Enter num1 3\n",
      "Enter num2 4\n",
      "Enter num3 5\n",
      "a is smaller, 3\n",
      "b is smaller, 4\n",
      "a is smaller, 3\n"
     ]
    }
   ],
   "source": [
    "a = int(input(\"Enter num1 \"))\n",
    "b = int(input(\"Enter num2 \"))\n",
    "c = int(input(\"Enter num3 \"))\n",
    "if a<b:\n",
    "    print(\"a is smaller,\", a)\n",
    "else:\n",
    "    print(\"b is smaller,\", b)\n",
    "if b<c:\n",
    "    print(\"b is smaller,\", b)\n",
    "else:\n",
    "    print(\"c is smaller,\", c)\n",
    "if a<c:\n",
    "    print(\"a is smaller,\", a)\n",
    "else:\n",
    "    print(\"c is smaller,\", c)"
   ]
  },
  {
   "cell_type": "markdown",
   "id": "e0bdadd3",
   "metadata": {},
   "source": [
    "### Program to enter number(1-7) and print respective day of the week"
   ]
  },
  {
   "cell_type": "code",
   "execution_count": 1,
   "id": "0cc0bdcb",
   "metadata": {},
   "outputs": [
    {
     "name": "stdout",
     "output_type": "stream",
     "text": [
      "Enter number from 1-7 = 6\n",
      "Saturday\n"
     ]
    }
   ],
   "source": [
    "n=int(input('Enter number from 1-7 = '))\n",
    "if n == 1:\n",
    "    print('Monday')\n",
    "elif n==2:\n",
    "    print('Tuesday')\n",
    "elif n==3:\n",
    "    print('Wednesday')\n",
    "elif n==4:\n",
    "    print('Thursday')\n",
    "elif n==5:\n",
    "    print('Friday')\n",
    "elif n==6:\n",
    "    print('Saturday')\n",
    "elif n==7:\n",
    "    print('Sunday')\n",
    "else:\n",
    "    print('Wrong input')"
   ]
  },
  {
   "cell_type": "markdown",
   "id": "208a0702",
   "metadata": {},
   "source": [
    "### Program to enter(1-12) and print respective month"
   ]
  },
  {
   "cell_type": "code",
   "execution_count": 2,
   "id": "79cbe8b1",
   "metadata": {},
   "outputs": [
    {
     "name": "stdout",
     "output_type": "stream",
     "text": [
      "enter no b/w 1-12:8\n",
      "August\n"
     ]
    }
   ],
   "source": [
    "n = int(input('enter no b/w 1-12:'))\n",
    "if n==1:\n",
    "    print(\"January\")\n",
    "elif n==2:\n",
    "    print(\"February\")\n",
    "elif n==3:\n",
    "    print(\"March\")\n",
    "elif n==4:\n",
    "    print(\"April\")\n",
    "elif n==5:\n",
    "    print(\"May\")\n",
    "elif n==6:\n",
    "    print(\"June\")\n",
    "elif n==7:\n",
    "    print(\"July\")\n",
    "elif n==8:\n",
    "    print(\"August\")\n",
    "elif n==9:\n",
    "    print(\"September\")\n",
    "elif n==10:\n",
    "    print(\"October\")\n",
    "elif n==11:\n",
    "    print(\"November\")\n",
    "elif n==12:\n",
    "    print(\"December\")\n",
    "else:\n",
    "    print(\"Wrong input\")"
   ]
  },
  {
   "cell_type": "markdown",
   "id": "fad76ec8",
   "metadata": {},
   "source": [
    "### Menu driven program "
   ]
  },
  {
   "cell_type": "code",
   "execution_count": 4,
   "id": "3d32952b",
   "metadata": {},
   "outputs": [
    {
     "name": "stdout",
     "output_type": "stream",
     "text": [
      "Menu:\n",
      " 1.Addition\n",
      " 2.Subtraction\n",
      " 3.Multiplication\n",
      " 4.Division\n",
      "enter the menu option:3\n",
      "enter first num:34\n",
      "enter second num:43\n",
      "Multiplication = 1462\n"
     ]
    }
   ],
   "source": [
    "print(\"Menu:\\n 1.Addition\\n 2.Subtraction\\n 3.Multiplication\\n 4.Division\")\n",
    "opt =int(input(\"enter the menu option:\"))\n",
    "a = int(input('enter first num:'))\n",
    "b = int(input('enter second num:'))\n",
    "if opt==1:\n",
    "    add = a+b\n",
    "    print(\"Addition =\", add)\n",
    "elif opt==2:\n",
    "    sub = a-b\n",
    "    print(\"Subtraction =\", sub)\n",
    "elif opt==3:\n",
    "    mul = a*b\n",
    "    print(\"Multiplication =\", mul)\n",
    "elif opt==4:\n",
    "    div = a/b\n",
    "    print(\"Division =\", div)\n",
    "else:\n",
    "    print(\"Wrong menu option\")"
   ]
  },
  {
   "cell_type": "markdown",
   "id": "f57cb0fe",
   "metadata": {},
   "source": [
    "### Program to convert temperature"
   ]
  },
  {
   "cell_type": "code",
   "execution_count": 6,
   "id": "b236e54e",
   "metadata": {},
   "outputs": [
    {
     "name": "stdout",
     "output_type": "stream",
     "text": [
      "Menu:\n",
      " 1.Celsius\n",
      " 2.Fahrenheit\n",
      "enter menu option:2\n",
      "enter temp in Celsius:34\n",
      "Temperature in Fahrenheit = 1.1111111111111112\n"
     ]
    }
   ],
   "source": [
    "print('Menu:\\n 1.Celsius\\n 2.Fahrenheit')\n",
    "n = int(input('enter menu option:'))\n",
    "if n==1:\n",
    "    temp = int(input('enter temp in Fahrenheit:'))\n",
    "    conv = (temp*(9/5))+32\n",
    "    print(\"Temperature in celsius =\", conv)\n",
    "elif n==2:\n",
    "    temp = int(input('enter temp in Celsius:'))\n",
    "    conv = (temp-32)*(5/9)\n",
    "    print(\"Temperature in Fahrenheit =\", conv)\n",
    "else:\n",
    "    print(\"Wrong input\")"
   ]
  },
  {
   "cell_type": "markdown",
   "id": "6bd171ac",
   "metadata": {},
   "source": [
    "### Bonus of employee"
   ]
  },
  {
   "cell_type": "code",
   "execution_count": 8,
   "id": "caa887d5",
   "metadata": {},
   "outputs": [
    {
     "name": "stdout",
     "output_type": "stream",
     "text": [
      "enter salary of employee:200000\n",
      "enter no.of years of service:5\n",
      "net bonus amount = 0\n"
     ]
    }
   ],
   "source": [
    "bas_sal = int(input('enter salary of employee:'))\n",
    "year = int(input('enter no.of years of service:'))\n",
    "if year>5:\n",
    "    bonus = bas_sal*0.05\n",
    "else:\n",
    "    bonus = 0\n",
    "print('net bonus amount =', bonus)"
   ]
  },
  {
   "cell_type": "markdown",
   "id": "e407263a",
   "metadata": {},
   "source": [
    "### Program to print oldest or youngest "
   ]
  },
  {
   "cell_type": "code",
   "execution_count": 9,
   "id": "bf7adc49",
   "metadata": {},
   "outputs": [
    {
     "name": "stdout",
     "output_type": "stream",
     "text": [
      "enter age of first person:3\n",
      "enter age of second person:4\n",
      "enter age of third person:5\n",
      "third person is Oldest\n",
      "first person is youngest\n"
     ]
    }
   ],
   "source": [
    "n1 = int(input('enter age of first person:'))\n",
    "n2 = int(input('enter age of second person:'))\n",
    "n3 = int(input('enter age of third person:'))\n",
    "if (n1>n2 and n1>n3):\n",
    "    print(\"first person is Oldest\")\n",
    "elif (n2>n1 and n2>n3):\n",
    "    print(\"second person is Oldest\")\n",
    "else:\n",
    "    print(\"third person is Oldest\")\n",
    "if (n1<n2 and n1<n3):\n",
    "    print(\"first person is youngest\")\n",
    "elif (n2<n1 and n2<n3):\n",
    "    print(\"second person is youngest\")\n",
    "else:\n",
    "    print(\"third person is youngest\")"
   ]
  },
  {
   "cell_type": "markdown",
   "id": "ca16b28b",
   "metadata": {},
   "source": [
    "### Program of grading system"
   ]
  },
  {
   "cell_type": "code",
   "execution_count": 10,
   "id": "397e0f02",
   "metadata": {},
   "outputs": [
    {
     "name": "stdout",
     "output_type": "stream",
     "text": [
      "enter marks of student:67\n",
      "B grade\n"
     ]
    }
   ],
   "source": [
    "marks = float(input('enter marks of student:'))\n",
    "if (marks>80.00 and marks<=100.00):\n",
    "    print(\"A grade\")\n",
    "elif (marks>60.00 and marks<=80.00):\n",
    "    print(\"B grade\")\n",
    "elif (marks>50.00 and marks<=60.00):\n",
    "    print(\"C grade\")\n",
    "elif (marks>45.00 and marks<=50.00):\n",
    "    print(\"D grade\")\n",
    "elif (marks>=25.00 and marks<=45.00):\n",
    "    print(\"E grade\")\n",
    "elif (marks<25.00):\n",
    "    print(\"F grade\")\n",
    "else:\n",
    "    print(\"Wrong marks\")"
   ]
  },
  {
   "cell_type": "code",
   "execution_count": null,
   "id": "8c51f20f",
   "metadata": {},
   "outputs": [],
   "source": []
  }
 ],
 "metadata": {
  "kernelspec": {
   "display_name": "Python 3 (ipykernel)",
   "language": "python",
   "name": "python3"
  },
  "language_info": {
   "codemirror_mode": {
    "name": "ipython",
    "version": 3
   },
   "file_extension": ".py",
   "mimetype": "text/x-python",
   "name": "python",
   "nbconvert_exporter": "python",
   "pygments_lexer": "ipython3",
   "version": "3.9.12"
  }
 },
 "nbformat": 4,
 "nbformat_minor": 5
}
