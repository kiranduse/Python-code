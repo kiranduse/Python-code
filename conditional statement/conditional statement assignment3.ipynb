{
 "cells": [
  {
   "cell_type": "markdown",
   "id": "c31b59df",
   "metadata": {},
   "source": [
    "# Q.1 A company decided to give bonus of 5% to employee if his/her service is more than 5 yrs.Ask user for their salary and year of service and print net bonus amount."
   ]
  },
  {
   "cell_type": "code",
   "execution_count": 2,
   "id": "55777fd7",
   "metadata": {},
   "outputs": [
    {
     "name": "stdout",
     "output_type": "stream",
     "text": [
      "Enter your salary :50000\n",
      "How many years of service in our company7\n",
      "your net bonus amountis  2500.0\n"
     ]
    }
   ],
   "source": [
    "salary=int(input(\"Enter your salary :\"))\n",
    "service=int(input(\"How many years of service in our company\"))\n",
    "if service>5:\n",
    "    bonus=0.05*salary\n",
    "    print(\"your net bonus amountis \",bonus)\n",
    "else:\n",
    "    print(\"your bonus cannot be generated due to your service time is not more than 5 yrs\")"
   ]
  },
  {
   "cell_type": "markdown",
   "id": "e251c06f",
   "metadata": {},
   "source": [
    "# Q.2 A school has following grading system:\n",
    "    a.Below 25-F ,b)25 to 45-E,c)45 to 50-D,d)50 to 60-C,e)60 to 80-B,f)Above 80-A\n",
    "    Ask user to enter marks and print the corresponding grade."
   ]
  },
  {
   "cell_type": "code",
   "execution_count": 3,
   "id": "2596e1a7",
   "metadata": {},
   "outputs": [
    {
     "name": "stdout",
     "output_type": "stream",
     "text": [
      "Enter your marks67\n",
      "Your grade is  B\n"
     ]
    }
   ],
   "source": [
    "Marks=int(input(\"Enter your marks\"))\n",
    "text=\"Your grade is \"\n",
    "if Marks<25:\n",
    "    print(text,\"F\")\n",
    "elif 25<=Marks<45:\n",
    "     print(text,\"E\")\n",
    "elif 45<=Marks<50:\n",
    "     print(text,\"D\")\n",
    "elif 50<=Marks<60:\n",
    "     print(text,\"C\")\n",
    "elif 60<=Marks<80:\n",
    "     print(text,\"B\")\n",
    "else:\n",
    "     print(text,\"A\")\n",
    "\n",
    "    "
   ]
  },
  {
   "cell_type": "markdown",
   "id": "e82d8985",
   "metadata": {},
   "source": [
    "# Q.3 Write program to enter number bt(1-12) and print the respective month.11"
   ]
  },
  {
   "cell_type": "code",
   "execution_count": 6,
   "id": "7b689a0c",
   "metadata": {},
   "outputs": [
    {
     "name": "stdout",
     "output_type": "stream",
     "text": [
      "Enter the month number: 6\n",
      "June\n"
     ]
    }
   ],
   "source": [
    "def print_month_name(x):\n",
    "        if(x==1):\n",
    "            print(\"Jan\")\n",
    "        if(x==2):\n",
    "            print(\"Feb\")\n",
    "        if(x==3):\n",
    "            print(\"March\")\n",
    "        if(x==4):\n",
    "            print(\"April\")\n",
    "        if(x==5):\n",
    "            print(\"May\")\n",
    "        if(x==6):\n",
    "            print(\"June\")\n",
    "        if(x==7):\n",
    "            print(\"July\")\n",
    "        if(x==8):\n",
    "            print(\"August\")\n",
    "        if(x==9):\n",
    "            print(\"September\")\n",
    "        if(x==10):\n",
    "            print(\"Octomber\")\n",
    "        if(x==11):\n",
    "            print(\"November\")\n",
    "        if(x==12):\n",
    "            print(\"December\")\n",
    "        if(x<1 or x>12):\n",
    "                print(\"Invalid input\")\n",
    "month =int(input(\"Enter the month number: \"))\n",
    "print_month_name(month)"
   ]
  },
  {
   "cell_type": "markdown",
   "id": "7ad83393",
   "metadata": {},
   "source": [
    "## Q.4 Write program to enter number bet(1-4)and perform following operations:\n",
    "    \n",
    "    1.Addition \n",
    "    2.Substraction\n",
    "    3.Multiplication\n",
    "    4.Division"
   ]
  },
  {
   "cell_type": "code",
   "execution_count": 6,
   "id": "b2fa8ed6",
   "metadata": {},
   "outputs": [
    {
     "name": "stdout",
     "output_type": "stream",
     "text": [
      "Enter number1: 3\n",
      "Enter number2: 2\n",
      "Add=  5\n"
     ]
    }
   ],
   "source": [
    "num1=int(input(\"Enter number1: \"))\n",
    "num2=int(input(\"Enter number2: \"))\n",
    "Add = num1+num2\n",
    "print(\"Add= \",Add)"
   ]
  },
  {
   "cell_type": "code",
   "execution_count": 8,
   "id": "0ddf7ba2",
   "metadata": {},
   "outputs": [
    {
     "name": "stdout",
     "output_type": "stream",
     "text": [
      "Enter number1: 4\n",
      "Enter number2: 3\n",
      "Sub=  1\n"
     ]
    }
   ],
   "source": [
    "num1=int(input(\"Enter number1: \"))\n",
    "num2=int(input(\"Enter number2: \"))\n",
    "Sub = num1-num2\n",
    "print(\"Sub= \",Sub)"
   ]
  },
  {
   "cell_type": "code",
   "execution_count": 9,
   "id": "d91e1bb8",
   "metadata": {},
   "outputs": [
    {
     "name": "stdout",
     "output_type": "stream",
     "text": [
      "Enter number1: 4\n",
      "Enter number2: 3\n",
      "Mul=  12\n"
     ]
    }
   ],
   "source": [
    "num1=int(input(\"Enter number1: \"))\n",
    "num2=int(input(\"Enter number2: \"))\n",
    "Mul = num1*num2\n",
    "print(\"Mul= \",Mul)"
   ]
  },
  {
   "cell_type": "code",
   "execution_count": 10,
   "id": "b55e5c76",
   "metadata": {},
   "outputs": [
    {
     "name": "stdout",
     "output_type": "stream",
     "text": [
      "Enter number1: 4\n",
      "Enter number2: 2\n",
      "Div=  2\n"
     ]
    }
   ],
   "source": [
    "num1=int(input(\"Enter number1: \"))\n",
    "num2=int(input(\"Enter number2: \"))\n",
    "Div = num1//num2\n",
    "print(\"Div= \",Div)"
   ]
  },
  {
   "cell_type": "markdown",
   "id": "04a9be92",
   "metadata": {},
   "source": [
    "# Q.5 Write program to convert temperatures to and from celsius,Fahrenheit."
   ]
  },
  {
   "cell_type": "code",
   "execution_count": 13,
   "id": "fdc1fc95",
   "metadata": {},
   "outputs": [
    {
     "name": "stdout",
     "output_type": "stream",
     "text": [
      "Enter the temperature in celsius : 0\n",
      "  0.00  C =  32.00  \n"
     ]
    }
   ],
   "source": [
    "celsius=float(input(\"Enter the temperature in celsius : \"))\n",
    "fahrenheit = (celsius * 1.8) + 32\n",
    "print(\"  %.2f  C =  %.2f  \" %(celsius,fahrenheit))"
   ]
  },
  {
   "cell_type": "markdown",
   "id": "987f4764",
   "metadata": {},
   "source": [
    "# Q.6 Write program  to take input of length and breadth of a rectangle from user and check if it is square or not."
   ]
  },
  {
   "cell_type": "code",
   "execution_count": 14,
   "id": "6d8a6365",
   "metadata": {},
   "outputs": [
    {
     "name": "stdout",
     "output_type": "stream",
     "text": [
      "Enter length of rectangle: 4\n",
      "Enter length of rectangle: 4\n",
      "It is square\n"
     ]
    }
   ],
   "source": [
    "length=float(input(\"Enter length of rectangle: \"))\n",
    "breadth=float(input(\"Enter length of rectangle: \"))\n",
    "if (length==breadth):\n",
    "    print(\"It is square\")\n",
    "else:\n",
    "    print(\"It is rectangle\")"
   ]
  },
  {
   "cell_type": "markdown",
   "id": "408126f2",
   "metadata": {},
   "source": [
    "# Q.7 Write program to take input of age 3 people by user and determine oldest and yongest among them"
   ]
  },
  {
   "cell_type": "code",
   "execution_count": 15,
   "id": "5f055f90",
   "metadata": {},
   "outputs": [
    {
     "name": "stdout",
     "output_type": "stream",
     "text": [
      "Enter your age56\n",
      "Enter your age70\n",
      "Enter your age67\n",
      "oldest age is:  70\n",
      "Yongest age is:  56\n"
     ]
    }
   ],
   "source": [
    "age1=int(input(\"Enter your age\"))\n",
    "age2=int(input(\"Enter your age\"))\n",
    "age3=int(input(\"Enter your age\"))\n",
    "maxage=max(age1,age2,age3)\n",
    "minage=min(age1,age2,age3)\n",
    "print(\"oldest age is: \",maxage)\n",
    "print(\"Yongest age is: \",minage)"
   ]
  },
  {
   "cell_type": "code",
   "execution_count": null,
   "id": "bc81726b",
   "metadata": {},
   "outputs": [],
   "source": []
  }
 ],
 "metadata": {
  "kernelspec": {
   "display_name": "Python 3 (ipykernel)",
   "language": "python",
   "name": "python3"
  },
  "language_info": {
   "codemirror_mode": {
    "name": "ipython",
    "version": 3
   },
   "file_extension": ".py",
   "mimetype": "text/x-python",
   "name": "python",
   "nbconvert_exporter": "python",
   "pygments_lexer": "ipython3",
   "version": "3.9.12"
  }
 },
 "nbformat": 4,
 "nbformat_minor": 5
}
