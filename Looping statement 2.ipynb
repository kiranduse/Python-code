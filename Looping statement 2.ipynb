{
 "cells": [
  {
   "cell_type": "markdown",
   "id": "6729dbd6",
   "metadata": {},
   "source": [
    "### Program to print factors of number"
   ]
  },
  {
   "cell_type": "code",
   "execution_count": 1,
   "id": "c165af17",
   "metadata": {},
   "outputs": [
    {
     "name": "stdout",
     "output_type": "stream",
     "text": [
      "enter any number:6\n",
      "1\n",
      "2\n",
      "3\n",
      "6\n",
      "total no.of factors = 4\n"
     ]
    }
   ],
   "source": [
    "n = int(input('enter any number:'))\n",
    "i = 1\n",
    "count = 0\n",
    "for i in range(1,n+1):\n",
    "    if n%i==0:\n",
    "        print(i)\n",
    "        i = i+1\n",
    "        count = count+1\n",
    "print(\"total no.of factors =\", count)"
   ]
  },
  {
   "cell_type": "markdown",
   "id": "fc23d671",
   "metadata": {},
   "source": [
    "### Program to print reverse of number"
   ]
  },
  {
   "cell_type": "code",
   "execution_count": 2,
   "id": "fe54c65f",
   "metadata": {},
   "outputs": [
    {
     "name": "stdout",
     "output_type": "stream",
     "text": [
      "enter any number:789\n",
      "987\n"
     ]
    }
   ],
   "source": [
    "n = int(input('enter any number:'))\n",
    "i = 1\n",
    "rev = 0\n",
    "for i in range(n):\n",
    "    rem = n%10\n",
    "    rev = (rev*10)+rem\n",
    "    n = n//10\n",
    "    if n==0:\n",
    "        break\n",
    "print(rev)"
   ]
  },
  {
   "cell_type": "markdown",
   "id": "8279938f",
   "metadata": {},
   "source": [
    "### Program to print sum of reverse number"
   ]
  },
  {
   "cell_type": "code",
   "execution_count": 2,
   "id": "8259c401",
   "metadata": {},
   "outputs": [
    {
     "name": "stdout",
     "output_type": "stream",
     "text": [
      "enter any number:789\n",
      "sum of reverse of number = 24\n"
     ]
    }
   ],
   "source": [
    "n = int(input('enter any number:'))\n",
    "i = 1\n",
    "sum = 0\n",
    "for i in range(n):\n",
    "    rem = n%10\n",
    "    sum = sum + rem\n",
    "    n = n//10  \n",
    "print(\"sum of reverse of number =\", sum)"
   ]
  },
  {
   "cell_type": "markdown",
   "id": "9b60bf01",
   "metadata": {},
   "source": [
    "### Program to print  prime  number or not"
   ]
  },
  {
   "cell_type": "code",
   "execution_count": 3,
   "id": "09e7817b",
   "metadata": {},
   "outputs": [
    {
     "name": "stdout",
     "output_type": "stream",
     "text": [
      "enter any number:6\n",
      "6 is not a prime number\n"
     ]
    }
   ],
   "source": [
    "\n",
    "n = int(input('enter any number:'))\n",
    "i = 1\n",
    "count = 0\n",
    "for i in range(1,n+1):\n",
    "    if n%i==0:\n",
    "        count = count+1\n",
    "    i = i+1\n",
    "if count==2:\n",
    "    print(n, \"is prime number\")\n",
    "else:\n",
    "    print(n, \"is not a prime number\")"
   ]
  },
  {
   "cell_type": "code",
   "execution_count": 4,
   "id": "07f055a6",
   "metadata": {},
   "outputs": [
    {
     "name": "stdout",
     "output_type": "stream",
     "text": [
      "enter any number:13\n",
      "13 is prime number\n"
     ]
    }
   ],
   "source": [
    "\n",
    "n = int(input('enter any number:'))\n",
    "i = 1\n",
    "count = 0\n",
    "for i in range(1,n+1):\n",
    "    if n%i==0:\n",
    "        count = count+1\n",
    "    i = i+1\n",
    "if count==2:\n",
    "    print(n, \"is prime number\")\n",
    "else:\n",
    "    print(n, \"is not a prime number\")"
   ]
  },
  {
   "cell_type": "markdown",
   "id": "f6f6869d",
   "metadata": {},
   "source": [
    "### Program to print prime number between 1 to 100"
   ]
  },
  {
   "cell_type": "code",
   "execution_count": 5,
   "id": "bed97d24",
   "metadata": {},
   "outputs": [
    {
     "name": "stdout",
     "output_type": "stream",
     "text": [
      "2\n",
      "3\n",
      "5\n",
      "7\n",
      "11\n",
      "13\n",
      "17\n",
      "19\n",
      "23\n",
      "29\n",
      "31\n",
      "37\n",
      "41\n",
      "43\n",
      "47\n",
      "53\n",
      "59\n",
      "61\n",
      "67\n",
      "71\n",
      "73\n",
      "79\n",
      "83\n",
      "89\n",
      "97\n"
     ]
    }
   ],
   "source": [
    "for n in range(1,101):\n",
    "    count = 0\n",
    "    for i in range(2, (n//2+1)):\n",
    "        if n%i==0:\n",
    "            count = count + 1\n",
    "            break\n",
    "    if (count==0 and n>1):\n",
    "        print(n)"
   ]
  },
  {
   "cell_type": "markdown",
   "id": "719bd35c",
   "metadata": {},
   "source": [
    "### Program to print fctorial of a number"
   ]
  },
  {
   "cell_type": "code",
   "execution_count": 7,
   "id": "2334b314",
   "metadata": {},
   "outputs": [
    {
     "name": "stdout",
     "output_type": "stream",
     "text": [
      "enter any number:5\n",
      "120\n"
     ]
    }
   ],
   "source": [
    "n = int(input('enter any number:'))\n",
    "i = 1\n",
    "fac = 1\n",
    "while i<=n:\n",
    "    fac = fac*i\n",
    "    i+=1\n",
    "print(fac)"
   ]
  },
  {
   "cell_type": "markdown",
   "id": "d6318835",
   "metadata": {},
   "source": [
    "### Program to print even numbers from 1 to 100"
   ]
  },
  {
   "cell_type": "code",
   "execution_count": 9,
   "id": "aaabec69",
   "metadata": {},
   "outputs": [
    {
     "name": "stdout",
     "output_type": "stream",
     "text": [
      "2\n",
      "4\n",
      "6\n",
      "8\n",
      "10\n",
      "12\n",
      "14\n",
      "16\n",
      "18\n",
      "20\n",
      "22\n",
      "24\n",
      "26\n",
      "28\n",
      "30\n",
      "32\n",
      "34\n",
      "36\n",
      "38\n",
      "40\n",
      "42\n",
      "44\n",
      "46\n",
      "48\n",
      "50\n",
      "52\n",
      "54\n",
      "56\n",
      "58\n",
      "60\n",
      "62\n",
      "64\n",
      "66\n",
      "68\n",
      "70\n",
      "72\n",
      "74\n",
      "76\n",
      "78\n",
      "80\n",
      "82\n",
      "84\n",
      "86\n",
      "88\n",
      "90\n",
      "92\n",
      "94\n",
      "96\n",
      "98\n",
      "100\n"
     ]
    }
   ],
   "source": [
    "i = 1\n",
    "while i<=100:\n",
    "    if i%2==0:\n",
    "        print(i)\n",
    "    i = i+1"
   ]
  },
  {
   "cell_type": "markdown",
   "id": "be57793d",
   "metadata": {},
   "source": [
    "### Program to print cube of a number"
   ]
  },
  {
   "cell_type": "code",
   "execution_count": 6,
   "id": "a6fdc258",
   "metadata": {},
   "outputs": [
    {
     "name": "stdout",
     "output_type": "stream",
     "text": [
      "enter any number:6\n",
      "1\n",
      "8\n",
      "27\n",
      "64\n",
      "125\n",
      "216\n"
     ]
    }
   ],
   "source": [
    "n = int(input('enter any number:'))\n",
    "i = 1\n",
    "for i in range(1,n+1):\n",
    "    cube = (i**3)\n",
    "    print(cube)\n",
    "    i+=1"
   ]
  },
  {
   "cell_type": "markdown",
   "id": "d845fb93",
   "metadata": {},
   "source": [
    "### Program to print square of a number"
   ]
  },
  {
   "cell_type": "code",
   "execution_count": 8,
   "id": "f8f6325b",
   "metadata": {},
   "outputs": [
    {
     "name": "stdout",
     "output_type": "stream",
     "text": [
      "enter any number:7\n",
      "2\n",
      "4\n",
      "6\n",
      "8\n",
      "10\n",
      "12\n",
      "14\n"
     ]
    }
   ],
   "source": [
    "n = int(input('enter any number:'))\n",
    "i = 1\n",
    "for i in range(1,n+1):\n",
    "    square = (i*2)\n",
    "    print(square)\n",
    "    i+=1"
   ]
  },
  {
   "cell_type": "markdown",
   "id": "ef567466",
   "metadata": {},
   "source": [
    "### Program to print number is palindrome or not"
   ]
  },
  {
   "cell_type": "code",
   "execution_count": 9,
   "id": "bbd6aae9",
   "metadata": {},
   "outputs": [
    {
     "name": "stdout",
     "output_type": "stream",
     "text": [
      "enter any number:6\n",
      "6 is palindrome\n"
     ]
    }
   ],
   "source": [
    "n = int(input('enter any number:'))\n",
    "i = 1\n",
    "rev = 0\n",
    "org = n\n",
    "for i in range(n):\n",
    "    rem = n%10\n",
    "    rev = (rev*10)+rem\n",
    "    n = n//10\n",
    "    if n==0:\n",
    "        break\n",
    "if org==rev:\n",
    "    print(org, \"is palindrome\")\n",
    "else:\n",
    "    print(org, \"is not palindrome\")"
   ]
  },
  {
   "cell_type": "markdown",
   "id": "9cbbac96",
   "metadata": {},
   "source": [
    "### Program to print reverse numbers"
   ]
  },
  {
   "cell_type": "code",
   "execution_count": 10,
   "id": "6317b369",
   "metadata": {},
   "outputs": [
    {
     "name": "stdout",
     "output_type": "stream",
     "text": [
      "enter any number:10\n",
      "10\n",
      "9\n",
      "8\n",
      "7\n",
      "6\n",
      "5\n",
      "4\n",
      "3\n",
      "2\n",
      "1\n"
     ]
    }
   ],
   "source": [
    "n = int(input('enter any number:'))\n",
    "for i in range(n,0,-1):\n",
    "    print(i)"
   ]
  },
  {
   "cell_type": "markdown",
   "id": "f2a48d2e",
   "metadata": {},
   "source": [
    "### Break statement"
   ]
  },
  {
   "cell_type": "code",
   "execution_count": 11,
   "id": "4936ba49",
   "metadata": {},
   "outputs": [
    {
     "name": "stdout",
     "output_type": "stream",
     "text": [
      "0\n",
      "1\n",
      "2\n",
      "3\n",
      "4\n",
      "5\n",
      "6\n",
      "7\n",
      "8\n",
      "9\n"
     ]
    }
   ],
   "source": [
    "for i in range(20):\n",
    "    if i==10:\n",
    "        break\n",
    "    else:\n",
    "        print(i)"
   ]
  },
  {
   "cell_type": "markdown",
   "id": "f2629121",
   "metadata": {},
   "source": [
    "### Continue statement"
   ]
  },
  {
   "cell_type": "code",
   "execution_count": 12,
   "id": "1a7cfc4d",
   "metadata": {},
   "outputs": [
    {
     "name": "stdout",
     "output_type": "stream",
     "text": [
      "0\n",
      "1\n",
      "2\n",
      "3\n",
      "4\n",
      "5\n",
      "6\n",
      "7\n",
      "8\n",
      "9\n",
      "11\n",
      "12\n",
      "13\n",
      "14\n",
      "15\n",
      "16\n",
      "17\n",
      "18\n",
      "19\n"
     ]
    }
   ],
   "source": [
    "for i in range(20):\n",
    "    if i==10:\n",
    "        continue\n",
    "    else:\n",
    "        print(i)"
   ]
  },
  {
   "cell_type": "markdown",
   "id": "ddfa5a5d",
   "metadata": {},
   "source": [
    "### Pass statement"
   ]
  },
  {
   "cell_type": "code",
   "execution_count": 17,
   "id": "d0be6089",
   "metadata": {},
   "outputs": [
    {
     "name": "stdout",
     "output_type": "stream",
     "text": [
      "0\n",
      "1\n",
      "2\n",
      "3\n",
      "4\n",
      "5\n",
      "6\n",
      "7\n",
      "8\n",
      "Thank you\n",
      "9\n",
      "10\n"
     ]
    }
   ],
   "source": [
    "for i in range(11):\n",
    "    if i==9:\n",
    "        pass\n",
    "        print(\"Thank you\")\n",
    "    print(i)"
   ]
  },
  {
   "cell_type": "code",
   "execution_count": null,
   "id": "21c48c19",
   "metadata": {},
   "outputs": [],
   "source": []
  }
 ],
 "metadata": {
  "kernelspec": {
   "display_name": "Python 3 (ipykernel)",
   "language": "python",
   "name": "python3"
  },
  "language_info": {
   "codemirror_mode": {
    "name": "ipython",
    "version": 3
   },
   "file_extension": ".py",
   "mimetype": "text/x-python",
   "name": "python",
   "nbconvert_exporter": "python",
   "pygments_lexer": "ipython3",
   "version": "3.9.12"
  }
 },
 "nbformat": 4,
 "nbformat_minor": 5
}
